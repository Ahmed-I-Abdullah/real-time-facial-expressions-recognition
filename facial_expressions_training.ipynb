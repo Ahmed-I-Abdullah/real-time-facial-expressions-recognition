{
 "cells": [
  {
   "cell_type": "markdown",
   "id": "29d9ef8b",
   "metadata": {},
   "source": [
    "<h2 align=center>Facial Expressions Convolutional Neural Network Training</h2>"
   ]
  },
  {
   "cell_type": "markdown",
   "id": "b50fdc85",
   "metadata": {},
   "source": [
    "### 1- Import Libraries"
   ]
  },
  {
   "cell_type": "code",
   "execution_count": 22,
   "id": "46628337",
   "metadata": {},
   "outputs": [],
   "source": [
    "import math\n",
    "import numpy as np\n",
    "import matplotlib.pyplot as plt\n",
    "import tensorflow as tf\n",
    "from tensorflow.python.framework import ops\n",
    "import os\n",
    "from PIL import Image\n",
    "import glob\n",
    "from utils import *\n",
    "import pathlib"
   ]
  },
  {
   "cell_type": "markdown",
   "id": "082b2cef",
   "metadata": {},
   "source": [
    "### 2- Load and anlyze dataset"
   ]
  },
  {
   "cell_type": "code",
   "execution_count": 16,
   "id": "16a9c15b",
   "metadata": {},
   "outputs": [
    {
     "name": "stdout",
     "output_type": "stream",
     "text": [
      "3995 angry images\n",
      "436 disgust images\n",
      "4097 fear images\n",
      "7215 happy images\n",
      "4965 neutral images\n",
      "4830 sad images\n",
      "3171 surprise images\n"
     ]
    }
   ],
   "source": [
    "class_names = [\"angry\", \"disgust\", \"fear\", \"happy\", \"neutral\", \"sad\", \"surprise\"]\n",
    "for folder in os.listdir(\"dataset/train/\"):\n",
    "    print(str(len(os.listdir(\"dataset/train/\" + folder))) + \" \" + folder + \" images\")"
   ]
  },
  {
   "cell_type": "code",
   "execution_count": 17,
   "id": "c47fa767",
   "metadata": {},
   "outputs": [
    {
     "name": "stdout",
     "output_type": "stream",
     "text": [
      "Total dataset size is: 28709\n"
     ]
    }
   ],
   "source": [
    "dataset_dir = pathlib.Path(\"dataset/train/\")\n",
    "total_image_count = len(list(dataset_dir.glob('*/*.jpg')))\n",
    "print(\"Total dataset size is: \" + str(total_image_count))"
   ]
  },
  {
   "cell_type": "code",
   "execution_count": null,
   "id": "da57c61d",
   "metadata": {},
   "outputs": [
    {
     "name": "stdout",
     "output_type": "stream",
     "text": [
      "X_train shape: (28709, 48, 48)\n",
      "Y_train shape: (28709, 1)\n"
     ]
    }
   ],
   "source": [
    "X_train, Y_train = load_training_dataset()\n",
    "print (\"X_train shape: \" + str(X_train.shape))\n",
    "print (\"Y_train shape: \" + str(Y_train.shape))\n",
    "\n",
    "plt.figure(figsize=(10, 10))\n",
    "idx = np.random.choice(np.arange(len(X_train)), 9, replace=False)\n",
    "for i, arr_index in enumerate(idx):\n",
    "    ax = plt.subplot(3, 3, i + 1)\n",
    "    plt.imshow(X_train[arr_index], cmap='gray')\n",
    "    plt.title(class_names[np.squeeze(Y_train[arr_index])])"
   ]
  },
  {
   "cell_type": "code",
   "execution_count": 21,
   "id": "dc93d6de",
   "metadata": {},
   "outputs": [
    {
     "name": "stdout",
     "output_type": "stream",
     "text": [
      "First Y_train after one hot:  [1. 0. 0. 0. 0. 0. 0.]\n",
      "Y _train shape after one hot:  (28709, 7)\n"
     ]
    }
   ],
   "source": [
    "Y_train = convert_to_one_hot(Y_train, 7).T\n",
    "print(\"First Y_train after one hot: \", Y_train[0])\n",
    "print(\"Y _train shape after one hot: \", Y_train.shape)"
   ]
  },
  {
   "cell_type": "code",
   "execution_count": null,
   "id": "9ff538e5",
   "metadata": {},
   "outputs": [],
   "source": []
  },
  {
   "cell_type": "code",
   "execution_count": null,
   "id": "e457e213",
   "metadata": {},
   "outputs": [],
   "source": []
  },
  {
   "cell_type": "code",
   "execution_count": null,
   "id": "0267e4a1",
   "metadata": {},
   "outputs": [],
   "source": []
  },
  {
   "cell_type": "code",
   "execution_count": null,
   "id": "7b613ed2",
   "metadata": {},
   "outputs": [],
   "source": []
  }
 ],
 "metadata": {
  "kernelspec": {
   "display_name": "Python 3",
   "language": "python",
   "name": "python3"
  },
  "language_info": {
   "codemirror_mode": {
    "name": "ipython",
    "version": 3
   },
   "file_extension": ".py",
   "mimetype": "text/x-python",
   "name": "python",
   "nbconvert_exporter": "python",
   "pygments_lexer": "ipython3",
   "version": "3.9.6"
  }
 },
 "nbformat": 4,
 "nbformat_minor": 5
}
